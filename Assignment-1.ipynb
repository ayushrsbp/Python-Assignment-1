{
 "cells": [
  {
   "cell_type": "code",
   "execution_count": 1,
   "id": "11c294a3-8818-4db5-ac64-0f3b2f402347",
   "metadata": {},
   "outputs": [],
   "source": [
    "# Q1.\n",
    "#(i):\n",
    "s = \"Gauri\"\n",
    "#(ii):\n",
    "l = [\"Ayush\", 47, True, 2.45]\n",
    "#(iii):\n",
    "f = 45.24\n",
    "#(iv):\n",
    "t = (\"Pari\", \"Chatterbox\", 48, 4+4j)\n"
   ]
  },
  {
   "cell_type": "code",
   "execution_count": 4,
   "id": "3a788423-4fb2-41f6-9572-a1d892288851",
   "metadata": {},
   "outputs": [],
   "source": [
    "# Q2.\n",
    "# (i) Str\n",
    "# (ii) Str\n",
    "# (iii) list\n",
    "# (iv) float"
   ]
  },
  {
   "cell_type": "code",
   "execution_count": 6,
   "id": "b2019afb-9613-435a-845e-b9abaee4f3c6",
   "metadata": {},
   "outputs": [],
   "source": [
    "# Q3.\n",
    "# (i)  : a = b/c - a is the value, we get after dividing b by c.\n",
    "# (ii) : a = b%c - a is the remainder, when b is divided by c.\n",
    "# (iii): a = b // c - a is the nearest integer of b/c.\n",
    "# (iv) : a = b**c - a is equal to the b to the power c."
   ]
  },
  {
   "cell_type": "code",
   "execution_count": 11,
   "id": "08b5cebd-34ee-4d1f-8504-6f17fdaa37dc",
   "metadata": {},
   "outputs": [
    {
     "name": "stdout",
     "output_type": "stream",
     "text": [
      "Ayush - <class 'str'>\n",
      "(4+5j) - <class 'complex'>\n",
      "True - <class 'bool'>\n",
      "Gauri - <class 'str'>\n",
      "23 - <class 'int'>\n",
      "[45, False] - <class 'list'>\n",
      "Pari - <class 'str'>\n",
      "38.96 - <class 'float'>\n",
      "48 - <class 'int'>\n",
      "c - <class 'str'>\n"
     ]
    }
   ],
   "source": [
    "# Q4.\n",
    "l = [\"Ayush\", 4+5j, True, \"Gauri\", 23, [45, False], \"Pari\", 38.96, 48, 'c']\n",
    "for i in l:\n",
    "    print(i, end = \"\")\n",
    "    print(\" - \", end = \"\")\n",
    "    print(type(i))"
   ]
  },
  {
   "cell_type": "code",
   "execution_count": 15,
   "id": "3be0aa01-4945-4e87-806c-d760a8ed193b",
   "metadata": {},
   "outputs": [
    {
     "name": "stdout",
     "output_type": "stream",
     "text": [
      "A is divisble by B in 4 times.\n"
     ]
    }
   ],
   "source": [
    "# Q5.\n",
    "A, B = 16, 4\n",
    "count = 0\n",
    "while A >= B :\n",
    "    count+=1\n",
    "    A = A-B\n",
    "if A==0 :\n",
    "    print(\"A is divisble by B in \", end = \"\")\n",
    "    print(count, end = \"\")\n",
    "    print(\" times.\")\n",
    "else :\n",
    "    print(\"A is not divisble by B\")"
   ]
  },
  {
   "cell_type": "code",
   "execution_count": 16,
   "id": "265325c2-acff-4843-b524-873d2b082e41",
   "metadata": {},
   "outputs": [
    {
     "name": "stdout",
     "output_type": "stream",
     "text": [
      "1 is not divisble by 3.\n",
      "2 is not divisble by 3.\n",
      "3 is divisble by 3.\n",
      "4 is not divisble by 3.\n",
      "5 is not divisble by 3.\n",
      "6 is divisble by 3.\n",
      "7 is not divisble by 3.\n",
      "8 is not divisble by 3.\n",
      "9 is divisble by 3.\n",
      "10 is not divisble by 3.\n",
      "11 is not divisble by 3.\n",
      "12 is divisble by 3.\n",
      "13 is not divisble by 3.\n",
      "14 is not divisble by 3.\n",
      "15 is divisble by 3.\n",
      "16 is not divisble by 3.\n",
      "17 is not divisble by 3.\n",
      "18 is divisble by 3.\n",
      "19 is not divisble by 3.\n",
      "20 is not divisble by 3.\n",
      "21 is divisble by 3.\n",
      "22 is not divisble by 3.\n",
      "23 is not divisble by 3.\n",
      "24 is divisble by 3.\n",
      "25 is not divisble by 3.\n"
     ]
    }
   ],
   "source": [
    "# Q6.\n",
    "l = []\n",
    "for i in range(1, 26) :\n",
    "    l.append(i)\n",
    "for i in l:\n",
    "    if i%3 == 0 :\n",
    "        print(i, end = \"\")\n",
    "        print(\" is divisble by 3.\")\n",
    "    else :\n",
    "        print(i, end = \"\")\n",
    "        print(\" is not divisble by 3.\")\n",
    "        "
   ]
  },
  {
   "cell_type": "code",
   "execution_count": null,
   "id": "71e04818-0f35-4436-adfc-f440c9506f7b",
   "metadata": {},
   "outputs": [],
   "source": [
    "# Q 7.\n",
    "# If an object is mutuable, then each and every  individual element of this object can be altered.\n",
    "# In contrast, if an object is immutuable, it is not possible to alter each and every individual element of this object.\n",
    "# object of str data type is immutable whereas object of list data type is mutable."
   ]
  }
 ],
 "metadata": {
  "kernelspec": {
   "display_name": "Python 3 (ipykernel)",
   "language": "python",
   "name": "python3"
  },
  "language_info": {
   "codemirror_mode": {
    "name": "ipython",
    "version": 3
   },
   "file_extension": ".py",
   "mimetype": "text/x-python",
   "name": "python",
   "nbconvert_exporter": "python",
   "pygments_lexer": "ipython3",
   "version": "3.10.8"
  }
 },
 "nbformat": 4,
 "nbformat_minor": 5
}
